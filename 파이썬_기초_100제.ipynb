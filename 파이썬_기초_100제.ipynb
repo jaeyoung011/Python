{
 "cells": [
  {
   "cell_type": "code",
   "execution_count": 8,
   "id": "8a3e9800",
   "metadata": {},
   "outputs": [
    {
     "name": "stdout",
     "output_type": "stream",
     "text": [
      "a b\n",
      "a\n",
      "b\n"
     ]
    }
   ],
   "source": [
    "import pandas as pd\n",
    "\n",
    "a, b = input().split()\n",
    "print(a)\n",
    "print(b)"
   ]
  },
  {
   "cell_type": "code",
   "execution_count": null,
   "id": "2e5fc636",
   "metadata": {},
   "outputs": [],
   "source": [
    "# 6016\n",
    "[기초-입출력] 문자 2개 입력받아 순서 바꿔 출력하기2(설명)(py)"
   ]
  },
  {
   "cell_type": "code",
   "execution_count": 9,
   "id": "2daa19c2",
   "metadata": {},
   "outputs": [
    {
     "name": "stdout",
     "output_type": "stream",
     "text": [
      "a,b\n",
      "ba\n",
      "ba a,b\n"
     ]
    }
   ],
   "source": [
    "c1 = input()\n",
    "c2 = input()\n",
    "print(c2,c1)"
   ]
  },
  {
   "cell_type": "code",
   "execution_count": 13,
   "id": "65ed42d6",
   "metadata": {},
   "outputs": [
    {
     "name": "stdout",
     "output_type": "stream",
     "text": [
      "a b\n",
      "b  a\n"
     ]
    }
   ],
   "source": [
    "c1, c2 = input().split()\n",
    "\n",
    "print(c2,'',c1)"
   ]
  },
  {
   "cell_type": "code",
   "execution_count": null,
   "id": "5f20bcf0",
   "metadata": {},
   "outputs": [],
   "source": [
    "c1, c2 = input().split()\n",
    "\n",
    "print(c2+' '+c1)"
   ]
  },
  {
   "cell_type": "code",
   "execution_count": 14,
   "id": "9f9a6ee0",
   "metadata": {},
   "outputs": [],
   "source": [
    "# 6017 [기초-입출력] 문장 1개 입력받아 3번 출력하기(설명)(py)\n",
    "# 예시\n",
    "# s = input()\n",
    "# print(s, s, s)  #공백으로 구분해 한 줄로 출력한다."
   ]
  },
  {
   "cell_type": "code",
   "execution_count": 37,
   "id": "0f1c2373",
   "metadata": {},
   "outputs": [
    {
     "name": "stdout",
     "output_type": "stream",
     "text": [
      "a\n",
      "a a a\n"
     ]
    }
   ],
   "source": [
    "s = input()\n",
    "\n",
    "print(s,s,s)"
   ]
  },
  {
   "cell_type": "code",
   "execution_count": 38,
   "id": "d1729bf8",
   "metadata": {},
   "outputs": [],
   "source": [
    "# [기초-입출력] 주민번호 입력받아 형태 바꿔 출력하기(py)\n",
    "\n",
    "# 주민번호는 다음과 같이 구성된다.\n",
    "# XXXXXX-XXXXXXX\n",
    "\n",
    "# 왼쪽 6자리는 생년월일(YYMMDD)이고, 오른쪽 7자리는 성별,출생지역,확인코드로 구성되어있다.\n",
    "# 주민번호를 입력받아 형태를 바꿔 출력해보자.\n",
    "\n",
    "# 출력\n",
    "# '-'를 제외한 주민번호 13자리를 모두 붙여 출력한다.\n",
    "\n",
    "# 참고\n",
    "# 아무것도 없는 공(empty) 문자는 작은 따옴표(') 2개를 붙여서 '' 로 표현한다.\n",
    "\n",
    "# 입력 예시   \n",
    "# 000907-1121112\n",
    "\n",
    "# 출력 예시\n",
    "# 0009071121112"
   ]
  },
  {
   "cell_type": "code",
   "execution_count": 61,
   "id": "29f069b4",
   "metadata": {},
   "outputs": [
    {
     "name": "stdout",
     "output_type": "stream",
     "text": [
      "11-11\n",
      "1111\n"
     ]
    }
   ],
   "source": [
    "a,b = input().split('-')\n",
    "print(a,b,sep='')"
   ]
  },
  {
   "cell_type": "code",
   "execution_count": 65,
   "id": "e88eb34b",
   "metadata": {},
   "outputs": [],
   "source": [
    "#6021 [기초-입출력] 단어 1개 입력받아 나누어 출력하기(설명)(py)\n",
    "\n",
    "# 알파벳과 숫자로 이루어진 단어 1개가 입력된다.\n",
    "# 입력받은 단어의 각 문자를 한 줄에 한 문자씩 분리해 출력한다.\n",
    "\n",
    "# 예시\n",
    "# s = input()\n",
    "# print(s[0])\n",
    "# print(s[1])\n",
    "# ...\n",
    "\n",
    "# 참고\n",
    "# s[0] 은 첫 번째 문자를 의미한다.\n",
    "\n",
    "# 출력\n",
    "# 각 문자를 한 줄에 한 문자씩 줄을 바꿔 출력한다.\n",
    "\n",
    "# 입력 예시   \n",
    "# Hello\n",
    "\n",
    "# 출력 예시\n",
    "# H\n",
    "# e\n",
    "# l\n",
    "# l\n",
    "# o"
   ]
  },
  {
   "cell_type": "code",
   "execution_count": 66,
   "id": "3f67ffcb",
   "metadata": {},
   "outputs": [
    {
     "name": "stdout",
     "output_type": "stream",
     "text": [
      "Hello\n",
      "H\n",
      "e\n",
      "l\n",
      "l\n",
      "o\n"
     ]
    }
   ],
   "source": [
    "s = input()\n",
    "\n",
    "print(s[0])\n",
    "print(s[1])\n",
    "print(s[2])\n",
    "print(s[3])\n",
    "print(s[4])"
   ]
  },
  {
   "cell_type": "code",
   "execution_count": 67,
   "id": "abe6f46d",
   "metadata": {},
   "outputs": [],
   "source": [
    "#6022 [기초-입출력] 연월일 입력받아 나누어 출력하기(설명)(py)\n",
    "\n",
    "# 6자리의 연월일(YYMMDD)을 입력받아 나누어 출력해보자.\n",
    "\n",
    "# 참고\n",
    "# s = input()\n",
    "# print(s[0:2])\n",
    "\n",
    "# 를 실행하면 0번째 문자부터 1번째 문자까지 잘라 출력한다.\n",
    "# s[a:b] 라고 하면, s라는 단어에서 a번째 문자부터 b-1번째 문자까지 잘라낸 부분을 의미한다.\n",
    "# 다른 자르기 방법도 있다.\n",
    "\n",
    "# 입력 예시   \n",
    "# 200304\n",
    "\n",
    "# 출력 예시\n",
    "# 20 03 04"
   ]
  },
  {
   "cell_type": "code",
   "execution_count": 68,
   "id": "4f0ecd18",
   "metadata": {},
   "outputs": [
    {
     "name": "stdout",
     "output_type": "stream",
     "text": [
      "200304\n",
      "20 03 04\n"
     ]
    }
   ],
   "source": [
    "s = input()\n",
    "print(s[0:2], s[2:4], s[4:6])"
   ]
  },
  {
   "cell_type": "code",
   "execution_count": 69,
   "id": "74d3d935",
   "metadata": {},
   "outputs": [],
   "source": [
    "# 6023 [기초-입출력] 시분초 입력받아 분만 출력하기(py)\n",
    "\n",
    "# 시 분 초가\n",
    "# 시:분:초 형식으로 입력된다.\n",
    "\n",
    "# 출력\n",
    "# 분만 출력한다.\n",
    "\n",
    "# 입력 예시   \n",
    "# 17:23:57\n",
    "\n",
    "# 출력 예시\n",
    "# 23"
   ]
  },
  {
   "cell_type": "code",
   "execution_count": 72,
   "id": "95bff48f",
   "metadata": {},
   "outputs": [
    {
     "name": "stdout",
     "output_type": "stream",
     "text": [
      "17:23:57\n",
      "23\n"
     ]
    }
   ],
   "source": [
    "h,m,s = input().split(':')\n",
    "print(m)"
   ]
  },
  {
   "cell_type": "code",
   "execution_count": 73,
   "id": "bbe401ba",
   "metadata": {},
   "outputs": [],
   "source": [
    "# 6024 [기초-입출력] 단어 2개 입력받아 이어 붙이기(설명)(py)\n",
    "\n",
    "# 알파벳 문자와 숫자로 이루어진 단어 2개를 입력받아\n",
    "# 순서대로 붙여 출력하는 프로그램을 작성해보자.\n",
    "\n",
    "# 예시\n",
    "# w1, w2 = input().split()\n",
    "# s = w1 + w2\n",
    "# print(s)\n",
    "\n",
    "# 참고\n",
    "# 단어는 문자(character)들로 만든다.\n",
    "# 문자들로 구성된 문장을 문자열(string)이라고 부른다.\n",
    "# 문자열에는 공백문자(' ')가 포함될 수 있는데, \n",
    "# 문자 1개는 길이가 1인 문자열이라고 할 수 있고, 공백문자(' ')가 없는 문자열은 단어(word)라고 할 수 있다.\n",
    "\n",
    "# 일반적인 문장들은 공백으로 구분된 단어들로 만들어지기 때문에,\n",
    "# 공백문자로 구분된 문장에서 단어를 잘라내기 위해서는 공백문자(' ')를 기준으로 자르면 된다.\n",
    "# 키보드로 입력되는 것들은 기본적으로 문자열로 인식되고, 문자열끼리 더하기(+)를 실행하면,\n",
    "# 두 문자열을 합쳐 연결한(concatenate) 결과를 만들어 낸다.\n",
    "\n",
    "# 입력\n",
    "# 알파벳과 숫자로 이루어진 2개의 단어가 공백으로 구분되어 입력된다.\n",
    "\n",
    "# 출력\n",
    "# 입력된 2개의 단어를 순서대로 붙여 출력한다.\n",
    "\n",
    "# 입력 예시   \n",
    "# hello world\n",
    "\n",
    "# 출력 예시\n",
    "# helloworld"
   ]
  },
  {
   "cell_type": "code",
   "execution_count": 74,
   "id": "23c64e73",
   "metadata": {},
   "outputs": [
    {
     "name": "stdout",
     "output_type": "stream",
     "text": [
      "hello world\n",
      "helloworld\n"
     ]
    }
   ],
   "source": [
    "w1, w2 = input().split()\n",
    "s = w1 + w2\n",
    "print(s)"
   ]
  },
  {
   "cell_type": "code",
   "execution_count": 75,
   "id": "3fd2554e",
   "metadata": {},
   "outputs": [],
   "source": [
    "# 정수 2개를 입력받아\n",
    "# 합을 출력하는 프로그램을 작성해보자.\n",
    "\n",
    "# 예시\n",
    "# a, b = input().split()\n",
    "# c = int(a) + int(b)\n",
    "# print(c)\n",
    "\n",
    "# 참고\n",
    "# 입력되는 값은 기본적으로 문자열로 인식된다.\n",
    "\n",
    "# 문자열 + 문자열은 두 문자열을 합친 문자열을 만든다.\n",
    "# 숫자로 구성된 문자열이나 실수를 정수(integer) 값으로 바꾸기 위해서는 int( ) 를 사용할 수 있다.\n",
    "# 수 + 수의 결과는 합(addition)이 계산된다."
   ]
  },
  {
   "cell_type": "code",
   "execution_count": 79,
   "id": "ca290709",
   "metadata": {},
   "outputs": [
    {
     "name": "stdout",
     "output_type": "stream",
     "text": [
      "123 -123\n",
      "0\n"
     ]
    }
   ],
   "source": [
    "a, b= input().split()\n",
    "c = int(a) + int(b)\n",
    "print(c)"
   ]
  },
  {
   "cell_type": "code",
   "execution_count": 80,
   "id": "a12135bc",
   "metadata": {},
   "outputs": [],
   "source": [
    "# 실수 2개를 입력받아\n",
    "# 합을 출력하는 프로그램을 작성해보자.\n",
    "\n",
    "# 참고\n",
    "# 입력되는 값은 기본적으로 문자열로 인식된다.\n",
    "\n",
    "# 숫자로 구성된 문자열이나 정수를 실수(real number) 값으로 바꾸기 위해서는 float( ) 를 사용할 수 있다.\n",
    "# 소숫점(.)은 그 위치가 정해져있지 않고 이리저리 둥둥 떠다니므로, floating point라고 부른다."
   ]
  },
  {
   "cell_type": "code",
   "execution_count": 87,
   "id": "d2f605b9",
   "metadata": {},
   "outputs": [
    {
     "name": "stdout",
     "output_type": "stream",
     "text": [
      "0.1\n",
      "0.9\n",
      "1.0\n"
     ]
    }
   ],
   "source": [
    "a = input()\n",
    "b = input()\n",
    "c = float(a) + float(b)\n",
    "print(c)"
   ]
  },
  {
   "cell_type": "code",
   "execution_count": 90,
   "id": "927974ca",
   "metadata": {},
   "outputs": [
    {
     "name": "stdout",
     "output_type": "stream",
     "text": [
      "255\n",
      "ff\n"
     ]
    }
   ],
   "source": [
    "a = input()\n",
    "n = int(a)            #입력된 a를 10진수 값으로 변환해 변수 n에 저장\n",
    "print('%x'% n)  #n에 저장되어있는 값을 16진수(hexadecimal) 소문자 형태 문자열로 출력"
   ]
  },
  {
   "cell_type": "code",
   "execution_count": 91,
   "id": "8c763736",
   "metadata": {},
   "outputs": [
    {
     "name": "stdout",
     "output_type": "stream",
     "text": [
      "3.3333333333333335\n",
      "3\n",
      "1\n"
     ]
    }
   ],
   "source": [
    "print(10/3)\n",
    "print(10//3)\n",
    "print(10%3)"
   ]
  },
  {
   "cell_type": "code",
   "execution_count": null,
   "id": "c5c8d683",
   "metadata": {},
   "outputs": [],
   "source": []
  },
  {
   "cell_type": "code",
   "execution_count": 104,
   "id": "ccd7de6d",
   "metadata": {},
   "outputs": [
    {
     "name": "stdout",
     "output_type": "stream",
     "text": [
      "5\n",
      "6\n"
     ]
    }
   ],
   "source": [
    "# 6077\n",
    "\n",
    "n = int(input())\n",
    "list = []\n",
    "for i in range(1, n+1):\n",
    "    if i %2 == 0:\n",
    "        list.append(i)\n",
    "\n",
    "print(sum(list))\n",
    "\n",
    "\n",
    "n = int(input())\n",
    "s = 0\n",
    "for i in range(1, n+1):\n",
    "    if i%2 == 0:\n",
    "        s = s + i\n",
    "\n",
    "print(s)"
   ]
  },
  {
   "cell_type": "code",
   "execution_count": 105,
   "id": "610ac161",
   "metadata": {},
   "outputs": [],
   "source": [
    "# 6080\n",
    "\n",
    "# 나올 수 있는 주사위의 숫자를 한 세트씩 줄을 바꿔 모두 출력한다.\n",
    "# 첫 번째 수는 n, 두 번째 수는 m으로 고정해 1부터 오름차순 순서로 출력하도록 한다.\n",
    "\n",
    "\n",
    "# 입력 예시   \n",
    "# 2 3\n",
    "\n",
    "# 출력 예시\n",
    "# 1 1\n",
    "# 1 2\n",
    "# 1 3\n",
    "# 2 1\n",
    "# 2 2\n",
    "# 2 3"
   ]
  },
  {
   "cell_type": "code",
   "execution_count": 113,
   "id": "c4d1ee48",
   "metadata": {},
   "outputs": [
    {
     "name": "stdout",
     "output_type": "stream",
     "text": [
      "2 3\n",
      "1 1\n",
      "1 2\n",
      "1 3\n",
      "2 1\n",
      "2 2\n",
      "2 3\n"
     ]
    }
   ],
   "source": [
    "n,m = input().split()\n",
    "n = int(n)\n",
    "m = int(m)\n",
    "\n",
    "for n in range(1,n+1):\n",
    "    for m in range(1,m+1):\n",
    "        print(n,m)"
   ]
  },
  {
   "cell_type": "code",
   "execution_count": 115,
   "id": "647371fb",
   "metadata": {},
   "outputs": [],
   "source": [
    "# 6082\n",
    "# ** 3 6 9 게임은?\n",
    "# 여러 사람이 순서를 정한 후, 순서대로 수를 부르는 게임이다.\n",
    "# 만약 3, 6, 9 가 들어간 수를 자신이 불러야 하는 상황이라면, 수를 부르는 대신 \"박수(X)\" 를 쳐야 한다.\n",
    "# 33과 같이 3,6,9가 두 번 들어간 수 일때, \"짝짝\"과 같이 박수를 두 번 치는 형태도 있다.\n",
    "\n",
    "# 입력 예시   \n",
    "# 9\n",
    "\n",
    "# 출력 예시\n",
    "# 1 2 X 4 5 X 7 8 X"
   ]
  },
  {
   "cell_type": "code",
   "execution_count": 123,
   "id": "d3be61f7",
   "metadata": {},
   "outputs": [
    {
     "name": "stdout",
     "output_type": "stream",
     "text": [
      "10\n",
      "1\n",
      "2\n",
      "X\n",
      "4\n",
      "5\n",
      "X\n",
      "7\n",
      "8\n",
      "X\n",
      "10\n"
     ]
    }
   ],
   "source": [
    "n = int(input())\n",
    "\n",
    "for i in range(1,n+1):\n",
    "    if i % 10 in [3,6,9]:\n",
    "        print('X')\n",
    "    else:\n",
    "        print(i)\n"
   ]
  },
  {
   "cell_type": "code",
   "execution_count": 126,
   "id": "064d6744",
   "metadata": {},
   "outputs": [],
   "source": [
    "# 6086 : [기초-종합] 거기까지! 이제 그만~(설명)(py)\n",
    "\n",
    "# 1, 2, 3 ... 을 순서대로 계속 더해 합을 만드는데,\n",
    "# 그 합이 입력한 정수보다 작을 동안만 계속 더하는 프로그램을 작성해보자.\n",
    "\n",
    "# 즉, 1부터 n까지 정수를 하나씩 더해 합을 만드는데,\n",
    "# 어디까지 더해야 입력한 수보다 같거나 커지는지 알아보고자 하는 문제이다.\n",
    "\n",
    "# 하지만, 이번에는 그 때 까지의 합을 출력해야 한다.\n",
    "\n",
    "# 예를 들어, 57을 입력하면\n",
    "# 1+2+3+...+8+9+10=55에서 그 다음 수인 11을 더해 66이 될 때,\n",
    "# 그 값 66이 출력되어야 한다."
   ]
  },
  {
   "cell_type": "code",
   "execution_count": 147,
   "id": "bf9a8a5a",
   "metadata": {},
   "outputs": [
    {
     "name": "stdout",
     "output_type": "stream",
     "text": [
      "10\n",
      "55\n"
     ]
    }
   ],
   "source": [
    "n = int(input())\n",
    "s = 0\n",
    "for c in range(1,n+1):\n",
    "    s = s + c\n",
    "\n",
    "print(s)"
   ]
  },
  {
   "cell_type": "code",
   "execution_count": 167,
   "id": "78c60926",
   "metadata": {},
   "outputs": [
    {
     "name": "stdout",
     "output_type": "stream",
     "text": [
      "10\n",
      "10\n"
     ]
    }
   ],
   "source": [
    "n = int(input())\n",
    "sum = 0\n",
    "i = 0\n",
    "\n",
    "while True:\n",
    "    sum += i\n",
    "    i += 1\n",
    "    if sum >= n:\n",
    "        break\n",
    "    \n",
    "print(sum)"
   ]
  },
  {
   "cell_type": "code",
   "execution_count": 168,
   "id": "1f3c7bb4",
   "metadata": {},
   "outputs": [
    {
     "name": "stdout",
     "output_type": "stream",
     "text": [
      "10\n",
      "1 2 4 5 7 8 10 "
     ]
    }
   ],
   "source": [
    "# 6087 [기초-종합] 3의 배수는 통과(설명)(py)\n",
    "\n",
    "n = int(input())\n",
    "\n",
    "for i in range(1, n+1) :\n",
    "  if i%3==0 :\n",
    "    continue            #다음 반복 단계로 넘어간다.\n",
    "  print(i, end=' ')    #i가 짝수가 아닐 때만 실행된다."
   ]
  },
  {
   "cell_type": "code",
   "execution_count": 173,
   "id": "138c7480",
   "metadata": {},
   "outputs": [],
   "source": [
    "# 6088 : [기초-종합] 수 나열하기1(py)\n",
    "\n",
    "# 예를 들어\n",
    "# 1 4 7 10 13 16 19 22 25 ... 은\n",
    "# 1부터 시작해 이전에 만든 수에 3을 더해 다음 수를 만든 수열이다.\n",
    "# 이러한 것을 수학에서는 앞뒤 수들의 차이가 같다고 하여\n",
    "\n",
    "# 등차(차이가 같다의 한문 말) 수열이라고 한다. (등차수열 : arithmetic progression/sequence)\n",
    "# 수열을 알게 된 영일이는 갑자기 궁금해졌다.\n",
    "# 시작 값(a), 등차(d), 몇 번째인지를 나타내는 정수(n)가 입력될 때\n",
    "# n번째 수를 출력하는 프로그램을 만들어보자.\n",
    "\n",
    "\n",
    "# 입력 예시   \n",
    "# 1 3 5\n",
    "\n",
    "# 출력 예시\n",
    "# 13"
   ]
  },
  {
   "cell_type": "code",
   "execution_count": 186,
   "id": "76e8d08c",
   "metadata": {},
   "outputs": [
    {
     "name": "stdout",
     "output_type": "stream",
     "text": [
      "1 3 5\n",
      "13\n"
     ]
    }
   ],
   "source": [
    "a,d,n = input().split()\n",
    "\n",
    "a = int(a)\n",
    "d = int(d)\n",
    "n = int(n)\n",
    "\n",
    "for i in range(1,n):\n",
    "    sum = a + (d*(n-1))\n",
    "    \n",
    "print(sum)"
   ]
  },
  {
   "cell_type": "code",
   "execution_count": 214,
   "id": "9bac336d",
   "metadata": {},
   "outputs": [
    {
     "name": "stdout",
     "output_type": "stream",
     "text": [
      "2 3 1\n",
      "2\n"
     ]
    }
   ],
   "source": [
    "# 6089 : [기초-종합] 수 나열하기2(py)\n",
    "\n",
    "# 2 6 18 54 162 486 1458... 은\n",
    "# 2부터 시작해 이전에 만든 수에 3을 곱해 다음 수를 만든 수열이다.\n",
    "\n",
    "# 이러한 것을 수학에서는 앞뒤 수들의 비율이 같다고 하여\n",
    "# 등비(비율이 같다의 한문 말) 수열이라고 한다. (등비수열 : geometric progression/sequence)\n",
    "\n",
    "# 등비 수열을 알게된 영일이는 갑자기 궁금해졌다.\n",
    "# \"그럼.... 13번째 나오는 수는 뭘까?\"\n",
    "# 영일이는 프로그램을 만들어 더 큰 수도 자동으로 계산하고 싶어졌다.\n",
    "\n",
    "# 시작 값(a), 등비(r), 몇 번째인지를 나타내는 정수(n)가 입력될 때\n",
    "# n번째 수를 출력하는 프로그램을 만들어보자.\n",
    "\n",
    "# 입력 예시   \n",
    "# 2 3 7\n",
    "\n",
    "# 출력 예시\n",
    "# 1458\n",
    "\n",
    "a,r,n = map(int,input().split())\n",
    "\n",
    "print(a*r**(n-1))"
   ]
  },
  {
   "cell_type": "code",
   "execution_count": 216,
   "id": "834c18e6",
   "metadata": {},
   "outputs": [],
   "source": [
    "# 6090 : [기초-종합] 수 나열하기3(py)\n",
    "\n",
    "# 어떤 규칙에 따라 수를 순서대로 나열한 것을 수열(sequences)이라고 한다.\n",
    "\n",
    "# 예를 들어\n",
    "# 1 -1 3 -5 11 -21 43 ... 은\n",
    "# 1부터 시작해 이전에 만든 수에 -2를 곱한 다음 1을 더해 다음 수를 만든 수열이다.\n",
    "\n",
    "# 이런 이상한 수열을 알게 된 영일이는 또 궁금해졌다.\n",
    "# \"그럼.... 13번째 나오는 수는 뭘까?\"\n",
    "\n",
    "# 영일이는 물론 수학을 아주 잘하지만 이런 문제는 본 적이 거의 없었다...\n",
    "# 그래서 프로그램을 만들어 더 큰 수도 자동으로 계산하고 싶어졌다.\n",
    "\n",
    "# 시작 값(a), 곱할 값(m), 더할 값(d), 몇 번째인지를 나타내는 정수(n)가 입력될 때,\n",
    "# n번째 수를 출력하는 프로그램을 만들어보자.\n",
    "\n",
    "\n",
    "# 입력 예시   \n",
    "# 1 -2 1 8\n",
    "\n",
    "# 출력 예시\n",
    "# -85"
   ]
  },
  {
   "cell_type": "code",
   "execution_count": 231,
   "id": "90ff0f3d",
   "metadata": {},
   "outputs": [
    {
     "name": "stdout",
     "output_type": "stream",
     "text": [
      "1 -2 1 1\n",
      "1\n"
     ]
    }
   ],
   "source": [
    "a,m,d,n = map(int,input().split())\n",
    "\n",
    "for i in range(n-1):\n",
    "    a = a*m+d\n",
    "print(a)"
   ]
  },
  {
   "cell_type": "code",
   "execution_count": null,
   "id": "74c92432",
   "metadata": {},
   "outputs": [],
   "source": []
  }
 ],
 "metadata": {
  "kernelspec": {
   "display_name": "Python 3",
   "language": "python",
   "name": "python3"
  },
  "language_info": {
   "codemirror_mode": {
    "name": "ipython",
    "version": 3
   },
   "file_extension": ".py",
   "mimetype": "text/x-python",
   "name": "python",
   "nbconvert_exporter": "python",
   "pygments_lexer": "ipython3",
   "version": "3.7.10"
  }
 },
 "nbformat": 4,
 "nbformat_minor": 5
}
