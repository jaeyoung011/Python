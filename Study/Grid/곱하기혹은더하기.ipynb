{
  "nbformat": 4,
  "nbformat_minor": 0,
  "metadata": {
    "colab": {
      "name": "곱하기혹은더하기.ipynb",
      "provenance": []
    },
    "kernelspec": {
      "name": "python3",
      "display_name": "Python 3"
    },
    "language_info": {
      "name": "python"
    }
  },
  "cells": [
    {
      "cell_type": "code",
      "execution_count": 3,
      "metadata": {
        "id": "QahFme6LuKB9",
        "outputId": "34293d7f-b012-4001-d8a7-7cfbb230d207",
        "colab": {
          "base_uri": "https://localhost:8080/"
        }
      },
      "outputs": [
        {
          "output_type": "stream",
          "name": "stdout",
          "text": [
            "0 2 9 8 4\n",
            "576\n"
          ]
        }
      ],
      "source": [
        "# 내풀이\n",
        "# p.312\n",
        "\n",
        "# 0 일때만 더하기로 해주면 되는것 아닌가?\n",
        "# 문제:\n",
        "    # 0 일때는 더해주고\n",
        "    # 0 이 아닐때는 곱해주면된다\n",
        "    # 첫 수가 0이 아닐떄까지 기다려야한다\n",
        "        # 첫수가 0 이 아닌수로 가져온다\n",
        "        # 0이 아닐때는 곱하고\n",
        "        # 0 이면 더해준다.\n",
        "\n",
        "\n",
        "def multi_or_add():\n",
        "    data = list(map(int, input().split()))\n",
        "\n",
        "    data = sorted(data, reverse = True)\n",
        "\n",
        "    sum = data[0]\n",
        "\n",
        "    for number in data[1:]:\n",
        "        if number != 0:\n",
        "            sum *= number\n",
        "        else:\n",
        "            sum += number\n",
        "    return sum\n",
        "\n",
        "\n",
        "print(multi_or_add())\n",
        "\n"
      ]
    },
    {
      "cell_type": "code",
      "source": [
        "# 답안 풀이 # ndb796깃허브\n",
        "\n",
        "data = input()\n",
        "\n",
        "# 첫 번째 문자를 숫자로 변경하여 대입\n",
        "result = int(data[0])\n",
        "\n",
        "for i in range(1, len(data)):\n",
        "    # 두 수 중에서 하나라도 '0' 혹은 '1'인 경우, 곱하기보다는 더하기 수행\n",
        "    num = int(data[i])\n",
        "    if num <= 1 or result <=1:\n",
        "        result += num\n",
        "    else:\n",
        "        result *= num\n",
        "        \n",
        "print(result)"
      ],
      "metadata": {
        "id": "pKHXpi7DuLnp"
      },
      "execution_count": null,
      "outputs": []
    },
    {
      "cell_type": "code",
      "source": [
        "# 다시 수정\n",
        "\n",
        "def multi_or_add():\n",
        "    data = list(map(int, input().split()))\n",
        "\n",
        "    data = sorted(data, reverse = True)\n",
        "\n",
        "    sum = data[0]\n",
        "\n",
        "    for number in data[1:]:\n",
        "        if number == 0 or number == 1: # 1일때도 곱하는것보다는 더해야지 큰수를 구할수 있다.\n",
        "            sum += number\n",
        "        else:\n",
        "            sum *= number\n",
        "    return sum\n",
        "\n",
        "\n",
        "print(multi_or_add())\n"
      ],
      "metadata": {
        "colab": {
          "base_uri": "https://localhost:8080/"
        },
        "id": "iVnPyqhX-iJ4",
        "outputId": "375213ae-c1a6-4d35-c47b-5141eadd49ac"
      },
      "execution_count": 6,
      "outputs": [
        {
          "output_type": "stream",
          "name": "stdout",
          "text": [
            "5 6 7 0 0 0 0 \n",
            "210\n"
          ]
        }
      ]
    },
    {
      "cell_type": "code",
      "source": [
        ""
      ],
      "metadata": {
        "id": "ceRelPww-vl3"
      },
      "execution_count": null,
      "outputs": []
    }
  ]
}