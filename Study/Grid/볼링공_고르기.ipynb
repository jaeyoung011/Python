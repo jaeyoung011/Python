{
  "nbformat": 4,
  "nbformat_minor": 0,
  "metadata": {
    "colab": {
      "name": "볼링공_고르기.ipynb",
      "provenance": []
    },
    "kernelspec": {
      "name": "python3",
      "display_name": "Python 3"
    },
    "language_info": {
      "name": "python"
    }
  },
  "cells": [
    {
      "cell_type": "code",
      "source": [
        "from itertools import combinations\n",
        "\n",
        "# 접근방식\n",
        "    # 컴비네이션을 이용한다\n",
        "    # 여기서 공 무게가 똑같은걸뺀다\n",
        "    # 그럼 답이아닌가!?\n",
        "\n",
        "def choosing_a_bowlingball():\n",
        "    # N, M = map(int, input().split())\n",
        "    # data = list(map(int, input().split()))\n",
        "    data = [1, 3, 2, 3, 2]\n",
        "\n",
        "    get_combination = list(combinations(data,2))\n",
        "    total = int(len(get_combination))\n",
        "    for i in range(total):\n",
        "        if get_combination[i][0] == get_combination[i][1]:\n",
        "            total -= 1\n",
        "\n",
        "    return total\n",
        "\n",
        "\n",
        "print(choosing_a_bowlingball())"
      ],
      "metadata": {
        "colab": {
          "base_uri": "https://localhost:8080/"
        },
        "id": "ceRelPww-vl3",
        "outputId": "57345592-eb6a-44f2-8077-f28c70d5c8ea"
      },
      "execution_count": 1,
      "outputs": [
        {
          "output_type": "stream",
          "name": "stdout",
          "text": [
            "8\n"
          ]
        }
      ]
    },
    {
      "cell_type": "code",
      "source": [
        ""
      ],
      "metadata": {
        "id": "2XOwosSWCXT6"
      },
      "execution_count": null,
      "outputs": []
    }
  ]
}