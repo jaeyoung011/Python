{
  "nbformat": 4,
  "nbformat_minor": 0,
  "metadata": {
    "colab": {
      "name": "숫자카드게임.ipynb",
      "provenance": []
    },
    "kernelspec": {
      "name": "python3",
      "display_name": "Python 3"
    },
    "language_info": {
      "name": "python"
    }
  },
  "cells": [
    {
      "cell_type": "code",
      "execution_count": null,
      "metadata": {
        "id": "iJASaArlnbru"
      },
      "outputs": [],
      "source": [
        "# 카드게임\n",
        "\n",
        "    # 문제가 이해가 안갔다 처음에\n",
        "    # 가장 높은 숫자가 쓰인 카드 한 장을 뽑는 게임이래서 여기에 초점을 맞춰서 문제 이해하는대 많은 시간이 소요\n",
        "    # 그냥 각 행에서 가장 낮은 숫자를 뽑은후에\n",
        "    # 그 숫자들중 가장 큰수를 뽑는게답\n",
        "    # 이렇게 이해하는게 편함"
      ]
    },
    {
      "cell_type": "markdown",
      "source": [
        "\n",
        "\n",
        "1. 숫자가 쓰인 카드들이 N x M 형태로 놓여 있다. 이때 N은 행의 개수를 의미하며, M은 열의 개수를 의미한다.\n",
        "2. 먼저 뽑고자 하는 카드가 포함되어 있는 행을 선택한다.\n",
        "3. 그다음 선택된 행에 포함된 카드들 중 가장 숫자가 낮은 카드를 뽑아야 한다.\n",
        "4. 따라서 처음에 카드를 골라낼 행을 선택할 때, 이후에 해당 행에서 가장 숫자가 낮은 카드를 뽑을 것을 고려하여 최종적으로 가장 높은 숫자의 카드를 뽑을 수 있도록 전략을 세워야 한다.\n"
      ],
      "metadata": {
        "id": "MgSyl37LqdT8"
      }
    },
    {
      "cell_type": "code",
      "source": [
        "import numpy as np\n",
        "table_1 = [[3, 1, 2], [4, 1, 4], [2, 2, 2]]"
      ],
      "metadata": {
        "id": "nQt8ysxOq9hv"
      },
      "execution_count": 12,
      "outputs": []
    },
    {
      "cell_type": "code",
      "source": [
        "min([1,0,2])"
      ],
      "metadata": {
        "colab": {
          "base_uri": "https://localhost:8080/"
        },
        "id": "CoK-SH0dspkq",
        "outputId": "3774ba48-a204-41b0-c486-32772c48a1b8"
      },
      "execution_count": 16,
      "outputs": [
        {
          "output_type": "execute_result",
          "data": {
            "text/plain": [
              "0"
            ]
          },
          "metadata": {},
          "execution_count": 16
        }
      ]
    },
    {
      "cell_type": "code",
      "source": [
        "n, m = map(int, input().split())"
      ],
      "metadata": {
        "colab": {
          "base_uri": "https://localhost:8080/"
        },
        "id": "u4Wa_ehWrakp",
        "outputId": "a069a65e-7805-4c37-a611-134a58029964"
      },
      "execution_count": 26,
      "outputs": [
        {
          "name": "stdout",
          "output_type": "stream",
          "text": [
            "3 3\n"
          ]
        }
      ]
    },
    {
      "cell_type": "code",
      "source": [
        "def card_game():\n",
        "    n, m = map(int, input().split())\n",
        "    answer = 0\n",
        "\n",
        "    for i in range(n):\n",
        "        data = list(map(int, input().split()))\n",
        "        min_value = min(data)\n",
        "        if answer < min_value:\n",
        "            answer = min_value\n",
        "    return answer"
      ],
      "metadata": {
        "id": "G9yx1gQeriB7"
      },
      "execution_count": 40,
      "outputs": []
    },
    {
      "cell_type": "code",
      "source": [
        "card_game()"
      ],
      "metadata": {
        "colab": {
          "base_uri": "https://localhost:8080/"
        },
        "id": "M4uAxQ4RsnvE",
        "outputId": "3f55c4d5-aa71-46ce-9e1a-a03cccf93198"
      },
      "execution_count": 41,
      "outputs": [
        {
          "name": "stdout",
          "output_type": "stream",
          "text": [
            "3 3\n",
            "3 4 5\n",
            "1 2 3\n",
            "0 2 1\n"
          ]
        },
        {
          "output_type": "execute_result",
          "data": {
            "text/plain": [
              "3"
            ]
          },
          "metadata": {},
          "execution_count": 41
        }
      ]
    },
    {
      "cell_type": "code",
      "source": [
        ""
      ],
      "metadata": {
        "id": "ZCPjI9C4wtVH"
      },
      "execution_count": null,
      "outputs": []
    }
  ]
}