{
  "nbformat": 4,
  "nbformat_minor": 0,
  "metadata": {
    "colab": {
      "name": "1이될때까지.ipynb",
      "provenance": []
    },
    "kernelspec": {
      "name": "python3",
      "display_name": "Python 3"
    },
    "language_info": {
      "name": "python"
    }
  },
  "cells": [
    {
      "cell_type": "code",
      "source": [
        "\n",
        "# 1이 될 떄까지\n",
        "\n",
        "# n, k = map(int, input().split())\n",
        "\n",
        "def till_one(n, k):\n",
        "    count = 0\n",
        "    while n != 1: # 1일때 까지반복\n",
        "        if n % k == 0: # 나누어 지면 \n",
        "            n //= k # 나머지 업데이트\n",
        "            count += 1 \n",
        "        else:\n",
        "            n -= 1  \n",
        "            count += 1\n",
        "    return count\n",
        "\n",
        "#print(till_one(25, 5))\n",
        "# print(till_one(17, 3))\n",
        "print(till_one(31, 2))"
      ],
      "metadata": {
        "colab": {
          "base_uri": "https://localhost:8080/"
        },
        "id": "3HwY25eW3SnC",
        "outputId": "7fe657b0-ae69-45e2-ee61-96761f11f908"
      },
      "execution_count": 4,
      "outputs": [
        {
          "output_type": "stream",
          "name": "stdout",
          "text": [
            "8\n"
          ]
        }
      ]
    },
    {
      "cell_type": "code",
      "source": [
        ""
      ],
      "metadata": {
        "id": "cY7OHj5X3VtO"
      },
      "execution_count": null,
      "outputs": []
    },
    {
      "cell_type": "code",
      "execution_count": 3,
      "metadata": {
        "colab": {
          "base_uri": "https://localhost:8080/"
        },
        "id": "830APEQ7yFfY",
        "outputId": "4b5d4aba-9603-4f76-87d8-9f04c456423f"
      },
      "outputs": [
        {
          "output_type": "stream",
          "name": "stdout",
          "text": [
            "31 2\n",
            "8\n"
          ]
        }
      ],
      "source": [
        "# 모범답안\n",
        "\n",
        "# N, K공백을 기준으로 구분하여 입력 받기\n",
        "n, k = map(int, input().split())\n",
        "\n",
        "result = 0\n",
        "\n",
        "while True:\n",
        "    # N이 K로 나누어 떨어지는 수가 될 때까지만 1씩 빼기\n",
        "    target = (n // k) * k\n",
        "    result += (n - target)\n",
        "    n = target\n",
        "    # N이 K보다 작을 때 (더 이상 나눌 수 없을 때) 반복문 탈출\n",
        "    if n < k:\n",
        "        break\n",
        "    # K로 나누기\n",
        "    result += 1\n",
        "    n //= k\n",
        "\n",
        "# 마지막으로 남은 수에 대하여 1씩 빼기\n",
        "result += (n - 1)\n",
        "print(result)"
      ]
    },
    {
      "cell_type": "code",
      "source": [
        ""
      ],
      "metadata": {
        "id": "a-b3-ed3yQH0"
      },
      "execution_count": null,
      "outputs": []
    }
  ]
}