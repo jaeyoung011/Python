{
  "nbformat": 4,
  "nbformat_minor": 0,
  "metadata": {
    "colab": {
      "name": "람다(lambda).ipynb",
      "provenance": []
    },
    "kernelspec": {
      "name": "python3",
      "display_name": "Python 3"
    },
    "language_info": {
      "name": "python"
    },
    "gpuClass": "standard"
  },
  "cells": [
    {
      "cell_type": "markdown",
      "source": [
        "https://wikidocs.net/64\n",
        "\n",
        "출처"
      ],
      "metadata": {
        "id": "v9vS1h7SbJX3"
      }
    },
    {
      "cell_type": "code",
      "source": [
        "# * 활용법"
      ],
      "metadata": {
        "id": "f9tIi0E7cJJr"
      },
      "execution_count": 10,
      "outputs": []
    },
    {
      "cell_type": "code",
      "source": [
        "list_star = [1,2,3,4]\n",
        "# [1, 2, 3, 4]를 [과 ,를 빼고 출력하려면 ?\n",
        "print(*list_star)"
      ],
      "metadata": {
        "colab": {
          "base_uri": "https://localhost:8080/"
        },
        "id": "0Rg94w2AcFwn",
        "outputId": "7aa80b92-c8f1-4428-82c8-27cd3ca5f63b"
      },
      "execution_count": 8,
      "outputs": [
        {
          "output_type": "stream",
          "name": "stdout",
          "text": [
            "1 2 3 4\n"
          ]
        }
      ]
    },
    {
      "cell_type": "markdown",
      "source": [
        "오늘은 람다 형식과 그것을 이용하는 여러 가지 함수들에 대해서 알아보겠습니다. 당장 완벽하게 소화하실 필요는 없을 것 같구요, 가벼운 마음으로 이런 것이 있다는 정도만 아셔도 되지 않을까 합니다. 람다 형식은 인공지능 분야나 AutoCAD라는 설계 프로그램에서 쓰이는 Lisp 언어에서 물려받았다고 하는데요, 함수를 딱 한 줄만으로 만들게 해주는 훌륭한 녀석입니다. 사용할 때는 아래와 같이 써주면 되지요."
      ],
      "metadata": {
        "id": "cUpkx-_xbNMP"
      }
    },
    {
      "cell_type": "code",
      "source": [
        "# lambda 매개변수 : 표현식\n",
        "\n",
        "# >>> def hap(x, y):\n",
        "# ...   return x + y\n",
        "# ...\n",
        "# >>> hap(10, 20)\n",
        "# 30"
      ],
      "metadata": {
        "id": "LRMBmhGRbVo6"
      },
      "execution_count": 1,
      "outputs": []
    },
    {
      "cell_type": "code",
      "source": [
        "(lambda x,y: x + y)(10, 20) # lambda 는 미지수 값 이라 생각하면 될것같다. "
      ],
      "metadata": {
        "colab": {
          "base_uri": "https://localhost:8080/"
        },
        "id": "Yu1OEaswbUCK",
        "outputId": "bf22c0c4-1e89-4bda-aef3-2caa0b6c2eb3"
      },
      "execution_count": 3,
      "outputs": [
        {
          "output_type": "execute_result",
          "data": {
            "text/plain": [
              "30"
            ]
          },
          "metadata": {},
          "execution_count": 3
        }
      ]
    },
    {
      "cell_type": "code",
      "source": [
        "# reduce(함수, 시퀀스)\n",
        "\n",
        "# 형식은 위와 같구요, 시퀀스(문자열, 리스트, 튜플)의 원소들을 누적적으로(?) 함수에 적용시킨답니다. 말이 진짜 어렵군요. 예제를 살펴보도록 하겠습니다.\n",
        "\n",
        "from functools import reduce\n",
        "\n",
        "reduce(lambda x, y: x + y, [0, 1, 2, 3, 4])\n",
        "\n",
        "# 위의 예제는 먼저 0과 1을 더하고, 그 결과에 2를 더하고, 거기다가 3을 더하고, 또 4를 더한 값을 돌려줍니다. 한마디로 전부 다 더하라는 겁니다. 생각보다 쉽죠?"
      ],
      "metadata": {
        "colab": {
          "base_uri": "https://localhost:8080/"
        },
        "id": "D3HeaU58ba31",
        "outputId": "6e38f189-585d-4340-92f5-337ccb6a1252"
      },
      "execution_count": 11,
      "outputs": [
        {
          "output_type": "execute_result",
          "data": {
            "text/plain": [
              "10"
            ]
          },
          "metadata": {},
          "execution_count": 11
        }
      ]
    },
    {
      "cell_type": "code",
      "source": [
        "reduce(lambda x, y: y + x, 'abcde')"
      ],
      "metadata": {
        "colab": {
          "base_uri": "https://localhost:8080/",
          "height": 35
        },
        "id": "CFGBAqNpb0XW",
        "outputId": "010af7f9-19b6-4f0e-8ed5-090d06e8910e"
      },
      "execution_count": 12,
      "outputs": [
        {
          "output_type": "execute_result",
          "data": {
            "text/plain": [
              "'edcba'"
            ],
            "application/vnd.google.colaboratory.intrinsic+json": {
              "type": "string"
            }
          },
          "metadata": {},
          "execution_count": 12
        }
      ]
    },
    {
      "cell_type": "markdown",
      "source": [
        "### filter()\n",
        "\n",
        "그 다음은 filter를 살펴볼 차례입니다. 필터가 뭐죠? 정수기에서 물을 걸러주는 것이 필터죠? 에어컨의 바람 들어가는 곳에도 필터가 달려있구요."
      ],
      "metadata": {
        "id": "JMDTerq0cdh1"
      }
    },
    {
      "cell_type": "code",
      "source": [
        "# filter(함수, 리스트)\n",
        "\n",
        "filter(lambda x: x < 5, range(10))   # 파이썬 2\n",
        "\n",
        "list(filter(lambda x: x < 5, range(10))) # 파이썬 2 및 파이썬 3"
      ],
      "metadata": {
        "colab": {
          "base_uri": "https://localhost:8080/"
        },
        "id": "oUOY0iQHb7jH",
        "outputId": "b1b960b8-51b8-4ee0-b095-895d3c1b8d45"
      },
      "execution_count": 13,
      "outputs": [
        {
          "output_type": "execute_result",
          "data": {
            "text/plain": [
              "[0, 1, 2, 3, 4]"
            ]
          },
          "metadata": {},
          "execution_count": 13
        }
      ]
    },
    {
      "cell_type": "code",
      "source": [
        ""
      ],
      "metadata": {
        "id": "idS1d0LPconw"
      },
      "execution_count": null,
      "outputs": []
    },
    {
      "cell_type": "markdown",
      "source": [
        "lambda x: x<5 라고 쓰니까 왠지 수학책에서 본 듯한 느낌이 들지 않습니까? 수학자들이 파이썬을 좋아한다던데…\n",
        "\n",
        "위의 예제가 어떻게 돌아가는지는 척 보면 아시겠죠?\n",
        "\n",
        "0부터 9까지의 리스트에서 숫자를 하나씩 꺼냅니다.\n",
        "\n",
        "그 숫자를 x라 하고, x < 5 가 '참'이면 살려줍니다.\n",
        "\n",
        "살아남은 것들은 새로운 리스트에 넣어줍니다. 끝.\n",
        "\n",
        "자, 이번엔 홀수만 돌려주는 filter를 만들어 보도록 합시다.\n",
        "\n",
        "먼저 홀수가 뭔지 생각해볼까요?\n",
        "\n",
        "짝수는 2로 나누어 떨어지는 수이고, 홀수는 2로 나누어 떨어지지 않는 수입니다.\n",
        "\n",
        "짝수를 2로 나눈 나머지는 0이고, 홀수를 2로 나누면 나머지가 1이죠.\n",
        "\n",
        "또, 나머지를 구할 땐 %라는 연산자를 쓰면 됩니다. 예를 들어서, 50을 8로 나누면 몫은 6이고 나머지는 2니까 50 % 8은 2가 되는 거지요.\n",
        "\n",
        "이제 홀수를 돌려주는 필터를 만들어 보겠습니다."
      ],
      "metadata": {
        "id": "ZANGk6H_ctmp"
      }
    },
    {
      "cell_type": "code",
      "source": [
        "filter(lambda x: x % 2, range(10))        # 파이썬 2\n",
        "\n",
        "list(filter(lambda x: x % 2, range(10)))  # 파이썬 2 및 파이썬 3"
      ],
      "metadata": {
        "colab": {
          "base_uri": "https://localhost:8080/"
        },
        "id": "0P4iGzDLcuAu",
        "outputId": "1efef80c-edf0-4981-b470-83d6542e8ab9"
      },
      "execution_count": 14,
      "outputs": [
        {
          "output_type": "execute_result",
          "data": {
            "text/plain": [
              "[1, 3, 5, 7, 9]"
            ]
          },
          "metadata": {},
          "execution_count": 14
        }
      ]
    },
    {
      "cell_type": "code",
      "source": [
        ""
      ],
      "metadata": {
        "id": "3zZvYqoScy-C"
      },
      "execution_count": 15,
      "outputs": []
    },
    {
      "cell_type": "code",
      "source": [
        ""
      ],
      "metadata": {
        "id": "WJUUgI66c5jj"
      },
      "execution_count": null,
      "outputs": []
    }
  ]
}