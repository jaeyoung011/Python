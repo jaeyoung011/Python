{
  "nbformat": 4,
  "nbformat_minor": 0,
  "metadata": {
    "colab": {
      "name": "문자열_튜플_사전_자료형.ipynb",
      "provenance": []
    },
    "kernelspec": {
      "name": "python3",
      "display_name": "Python 3"
    },
    "language_info": {
      "name": "python"
    }
  },
  "cells": [
    {
      "cell_type": "markdown",
      "source": [
        "# 이코테 문법 정리"
      ],
      "metadata": {
        "id": "2eHJN7qGsHhn"
      }
    },
    {
      "cell_type": "markdown",
      "source": [
        "## 문자열 자료형\n",
        "\n",
        "- 문자열 변수를 초기화할 때는 큰따옴표(\")나 작은 따옴표(')를 이용합니다.\n",
        "\n",
        "- 문자열 안에 큰따옴표나 작은따옴표가 포함되어야 하는 경우가 있습니다.\n",
        "    - 전체 문자열을 큰따옴표로 구성하는 경우, 내부적으로 작은따옴표를 포함할 수 있습니다.\n",
        "    - 혹은 백슬래시(\\)를 사용하면, 큰따옴표나 작은따옴표를 원하는 만큼 포함시킬 수 있습니다.\n",
        "    - 백슬래시 이스케이프를 위해\n"
      ],
      "metadata": {
        "id": "e6cnRYjGtXu9"
      }
    },
    {
      "cell_type": "code",
      "source": [
        "data = 'Hello World'\n",
        "print(data)\n",
        "\n",
        "data = \"Don't you know \\\"Python\\\"?\"\n",
        "print(data)"
      ],
      "metadata": {
        "colab": {
          "base_uri": "https://localhost:8080/"
        },
        "id": "N2nw7RxMt6Wp",
        "outputId": "7a01094a-57cb-4d3f-a9f2-3afbc23a1d45"
      },
      "execution_count": 1,
      "outputs": [
        {
          "output_type": "stream",
          "name": "stdout",
          "text": [
            "Hello World\n",
            "Don't you know \"Python\"?\n"
          ]
        }
      ]
    },
    {
      "cell_type": "markdown",
      "source": [
        "\n",
        "- 문자열 변수에 덧셈(+)을 이용하면 문자열이 더해져서 연결(Concatenate)됩니다.\n",
        "- 문자열 변수를 특정한 양의 정수와 곱하는 경우, 문자열이 그 값만큼 여러 번 더해집니다.\n",
        "- 문자열에 대해서도 마찬가지로 인덱싱과 슬라이싱을 이용할 수 있습니다.\n",
        "    - 다만 문자열은 특정 인덱스의 값을 변경할 수는 없습니다. (Immuatble)"
      ],
      "metadata": {
        "id": "08a5GZoMuFCJ"
      }
    },
    {
      "cell_type": "code",
      "source": [
        "a = \"Hello\"\n",
        "b = \"World\"\n",
        "print(a + \"\" + b)\n",
        "\n",
        "a = \"String\"\n",
        "print(a * 3)\n",
        "\n",
        "\n",
        "a = \"ABCDEF\"\n",
        "print(a[2:4])"
      ],
      "metadata": {
        "colab": {
          "base_uri": "https://localhost:8080/"
        },
        "id": "YTyDyjQIuxel",
        "outputId": "41a3a3e8-a123-423f-e1c8-f11c33d39f02"
      },
      "execution_count": 4,
      "outputs": [
        {
          "output_type": "stream",
          "name": "stdout",
          "text": [
            "HelloWorld\n",
            "StringStringString\n",
            "CD\n"
          ]
        }
      ]
    },
    {
      "cell_type": "markdown",
      "source": [
        "## 튜블 자료형\n",
        "- 튜플 자료형은 리스트와 유사하지만 다음과 같은 문법적 차이가 있습니다.\n",
        "    - 튜플은 한 번 선언된 값을 변경할 수 없습니다. - 문자열과 비슷\n",
        "    - 리스트는 대괄호([])를 이용하지만, 튜플은 소괄호(())를 이용합니다.\n",
        "- 튜플은 리스트에 비해 상대적으로 공간 효율적 입니다."
      ],
      "metadata": {
        "id": "esRSc0Dcu9kw"
      }
    },
    {
      "cell_type": "code",
      "source": [
        "a = (1, 2, 3, 4, 5, 6, 7, 8, 9)\n",
        "\n",
        "# 네 번째 원소만 출력\n",
        "print(a[3])\n",
        "\n",
        "# 두 번째 원소부터 네 번째 원소까지\n",
        "print(a[1:4])"
      ],
      "metadata": {
        "colab": {
          "base_uri": "https://localhost:8080/"
        },
        "id": "fiy0dgXTvdkE",
        "outputId": "37e1d401-bfad-4461-e976-5063466b513d"
      },
      "execution_count": 5,
      "outputs": [
        {
          "output_type": "stream",
          "name": "stdout",
          "text": [
            "4\n",
            "(2, 3, 4)\n"
          ]
        }
      ]
    },
    {
      "cell_type": "code",
      "source": [
        "a = (1,2,3,4)\n",
        "print(a)\n",
        "\n",
        "a[2]=7"
      ],
      "metadata": {
        "colab": {
          "base_uri": "https://localhost:8080/",
          "height": 223
        },
        "id": "Uh4ekJnGvv4e",
        "outputId": "6e84d5ac-d65f-4c1f-86fa-5204086e32b6"
      },
      "execution_count": 6,
      "outputs": [
        {
          "output_type": "stream",
          "name": "stdout",
          "text": [
            "(1, 2, 3, 4)\n"
          ]
        },
        {
          "output_type": "error",
          "ename": "TypeError",
          "evalue": "ignored",
          "traceback": [
            "\u001b[0;31m---------------------------------------------------------------------------\u001b[0m",
            "\u001b[0;31mTypeError\u001b[0m                                 Traceback (most recent call last)",
            "\u001b[0;32m<ipython-input-6-cb8356000b23>\u001b[0m in \u001b[0;36m<module>\u001b[0;34m()\u001b[0m\n\u001b[1;32m      2\u001b[0m \u001b[0mprint\u001b[0m\u001b[0;34m(\u001b[0m\u001b[0ma\u001b[0m\u001b[0;34m)\u001b[0m\u001b[0;34m\u001b[0m\u001b[0;34m\u001b[0m\u001b[0m\n\u001b[1;32m      3\u001b[0m \u001b[0;34m\u001b[0m\u001b[0m\n\u001b[0;32m----> 4\u001b[0;31m \u001b[0ma\u001b[0m\u001b[0;34m[\u001b[0m\u001b[0;36m2\u001b[0m\u001b[0;34m]\u001b[0m\u001b[0;34m=\u001b[0m\u001b[0;36m7\u001b[0m\u001b[0;34m\u001b[0m\u001b[0;34m\u001b[0m\u001b[0m\n\u001b[0m",
            "\u001b[0;31mTypeError\u001b[0m: 'tuple' object does not support item assignment"
          ]
        }
      ]
    },
    {
      "cell_type": "markdown",
      "source": [
        "## 튜플을 사용하면 좋은 경우\n",
        "- 서로 다른 성질의 데이터를 묶어서 관리해야 할 때\n",
        "    - 최단 경로 알고리즘에서는 (비용, 노드 번호)의 형태로 튜플 자료형을 자주 사용합니다.\n",
        "    - 학생 정보 (다양한 서로다른 성질을 묶어서 관리할때)\n",
        "\n",
        "- 데이터의 나열을 해싱(Hashing)의 키 값으로 사용해야 할 떄 (사전 자료형)\n",
        "    - 튜플은 변경이 불가능하므로 리스트와 다르게 키 값으로 사용될 수 있습니다.\n",
        "\n",
        "- 리스트보다 메모리 효율적으로 사용해야 할 때"
      ],
      "metadata": {
        "id": "LVeMnwluvzum"
      }
    },
    {
      "cell_type": "markdown",
      "source": [
        "## 사전 자료형\n",
        "- 사전 자료형은 키(Key)와 값(Value)의 쌍을 데이터로 가지는 자료형 입니다.\n",
        "    - 앞서 다루었던 리스트나 튜플이 값을 순차적으로 저장하는 겂과는 대비됩니다.\n",
        "\n",
        "- 사전 자료형은 키와 값의 쌍을 데이터로 가지며, 원하는 '변경 불가능한(immutable) 자료형'을 키로 사용 할 수 있습니다.\n",
        "\n",
        "- 파이썬의 사전 자료형은 해시 테이블(Hash Table)을 이용하므로 데이터의 조회 및 수정에 있어서 0(1)의 시간에 처리할 수 있습니다."
      ],
      "metadata": {
        "id": "wTp5lW_KwIia"
      }
    },
    {
      "cell_type": "code",
      "source": [
        "data = dict()\n",
        "data['사과'] = \"Apple\"\n",
        "data['바나나'] = 'Banana'\n",
        "data['코코넛'] = 'Coconut'\n",
        "\n",
        "print(data)\n",
        "\n",
        "if ' 사과' in data:\n",
        "    print(\"'사과'를 키로 가지는 데이터가 존재합니다.\")"
      ],
      "metadata": {
        "colab": {
          "base_uri": "https://localhost:8080/"
        },
        "id": "obB9vg92xAxo",
        "outputId": "44cf0856-5531-4826-d5a6-db8ba40f790e"
      },
      "execution_count": 10,
      "outputs": [
        {
          "output_type": "stream",
          "name": "stdout",
          "text": [
            "{'사과': 'Apple', '바나나': 'Banana', '코코넛': 'Coconut'}\n"
          ]
        }
      ]
    },
    {
      "cell_type": "markdown",
      "source": [
        "- 사전 자료형에서는 키와 값을 별도로 뽑아내기 위한 메서드를 지원합니다.\n",
        "    - 키 데이터만 뽑아서 리스트로 이용할 때는 keys() 함수를 이용합니다.\n",
        "    - 값 데이터만을 뽑아서 리스트로 이용할 때는 values() 함수를 이용합니다.\n"
      ],
      "metadata": {
        "id": "rMnMRCm_xgMV"
      }
    },
    {
      "cell_type": "code",
      "source": [
        "data = dict()\n",
        "data['사과'] = \"Apple\"\n",
        "data['바나나'] = 'Banana'\n",
        "data['코코넛'] = 'Coconut'\n",
        "\n",
        "# 키 데이터만 담은 리스트\n",
        "key_list = data.keys()\n",
        "# 값 데이터만 담은 리스트\n",
        "values_list = data.values()\n",
        "print(key_list)\n",
        "print(values_list)\n",
        "\n",
        "# 각 키에 따른 값을 하나씩 출력\n",
        "for key in key_list:\n",
        "    print(data[key])"
      ],
      "metadata": {
        "colab": {
          "base_uri": "https://localhost:8080/"
        },
        "id": "QjpOw0k4xv3E",
        "outputId": "a0ec2271-b570-4f61-ea30-e4c81678b056"
      },
      "execution_count": 12,
      "outputs": [
        {
          "output_type": "stream",
          "name": "stdout",
          "text": [
            "dict_keys(['사과', '바나나', '코코넛'])\n",
            "dict_values(['Apple', 'Banana', 'Coconut'])\n",
            "Apple\n",
            "Banana\n",
            "Coconut\n"
          ]
        }
      ]
    },
    {
      "cell_type": "code",
      "source": [
        "a = dict()\n",
        "a['홍길동'] = 97\n",
        "a['이순신'] = 98\n",
        "\n",
        "print(a)\n",
        "\n",
        "b = {\n",
        "    '홍길동':98,\n",
        "    '이순신': 97\n",
        "}\n",
        "\n",
        "\n",
        "print(b)\n",
        "print(b['이순신'])\n",
        "\n",
        "key_list = list(b.keys())\n",
        "print(key_list)"
      ],
      "metadata": {
        "colab": {
          "base_uri": "https://localhost:8080/"
        },
        "id": "-iKPis0wyXHK",
        "outputId": "f163be0d-a95f-4e8b-a20f-a85c947230c1"
      },
      "execution_count": 14,
      "outputs": [
        {
          "output_type": "stream",
          "name": "stdout",
          "text": [
            "{'홍길동': 97, '이순신': 98}\n",
            "{'홍길동': 98, '이순신': 97}\n",
            "{'홍길동': 98, '이순신': 97}\n",
            "97\n",
            "['홍길동', '이순신']\n"
          ]
        }
      ]
    },
    {
      "cell_type": "markdown",
      "source": [
        "## 집합 자료형\n",
        "- 집합은 다음과 같은 특징이 있습니다.\n",
        "    - 중복을 허용하지 않습니다.\n",
        "    - 순서가 없습니다.\n",
        "\n",
        "- 집합은 리스트 혹은 문자열을 이용해서 초기화할 수 있습니다.\n",
        "    - 이때 set() 함수를 이용합니다.\n",
        "\n",
        "- 혹은 중괄호 ({})안에 각 원소를 콤마(,)를 기준으로 구분하여 삽입함으로써 초기화 할 수 있습니다.\n",
        "- 데이터의 조회 및 수정에 있어서 0(1)의 시간에 처리할 수 있습니다.\n",
        "\n"
      ],
      "metadata": {
        "id": "K3A9ikAg1rpQ"
      }
    },
    {
      "cell_type": "code",
      "source": [
        "# 집합 자료형 초기화 방법 1\n",
        "data = set([1, 1, 2, 3, 4, 4, 5])\n",
        "print(data)\n",
        "\n",
        "# 집합 자료형 초기화 방법 2\n",
        "data = {1, 1, 2, 3, 4, 4, 5}\n",
        "print(data)"
      ],
      "metadata": {
        "colab": {
          "base_uri": "https://localhost:8080/"
        },
        "id": "ycVcEeoV24ia",
        "outputId": "1c373e2a-6a6d-4069-abf8-3bcaef76bf5b"
      },
      "execution_count": 15,
      "outputs": [
        {
          "output_type": "stream",
          "name": "stdout",
          "text": [
            "{1, 2, 3, 4, 5}\n",
            "{1, 2, 3, 4, 5}\n"
          ]
        }
      ]
    },
    {
      "cell_type": "markdown",
      "source": [
        "## 집합 자료형의 연산\n",
        "- 기본적인 집합 연산으로는 합집합, 교집합, 차집합 연산 등이 있습니다.\n",
        "    - 합집합: 집합 A에 속하거나 B에 속하는 원소로 이루어진 집합 (AUB)\n",
        "    - 교집합: 집합 A에도 속하고 B에도 속하는 원소로 이루어진 집합 (A∩B)\n",
        "    - 차집합: 집합 A의 원소 중에서 B에 속하지 않는 원소들로 이루어진 집합(A - B)"
      ],
      "metadata": {
        "id": "NVI-tQlt3C3y"
      }
    },
    {
      "cell_type": "code",
      "source": [
        "data = set([1,2,3])\n",
        "print(data)\n",
        "\n",
        "# 새로운 원소 추가\n",
        "data.add(4)\n",
        "print(4)\n",
        "\n",
        "# 새로운 원소 여러 개 추가\n",
        "data.update([5, 6])\n",
        "print(data)\n",
        "\n",
        "# 특정 값을 갖는 원소 삭제\n",
        "data.remove(3)\n",
        "print(data)"
      ],
      "metadata": {
        "colab": {
          "base_uri": "https://localhost:8080/"
        },
        "id": "BUjlYGZk3qDv",
        "outputId": "351e9704-52eb-4a06-98c8-03e4e530bafa"
      },
      "execution_count": 16,
      "outputs": [
        {
          "output_type": "stream",
          "name": "stdout",
          "text": [
            "{1, 2, 3}\n",
            "4\n",
            "{1, 2, 3, 4, 5, 6}\n",
            "{1, 2, 4, 5, 6}\n"
          ]
        }
      ]
    },
    {
      "cell_type": "markdown",
      "source": [
        "## 사전 자료형과 집합 자료형의 특징\n",
        "\n",
        "- 리스트나 튜플은 순서가 있기 떄문에 인덱싱을 통해 자료형의 값을 얻을 수 있습니다.\n",
        "- 사전 자료형과 집합 자료형은 순서가 없기 때문에 인덱싱으로 값을 얻을 수 없습니다.\n",
        "    - 사전의 키(Key) 혹은 집합의 원소(Element)를 이용해 0(1)의 시간 복잡도로 조회합니다.\n"
      ],
      "metadata": {
        "id": "EYQdurK14Cb1"
      }
    },
    {
      "cell_type": "markdown",
      "source": [
        "## 기본 입출력\n",
        "- 모든 프로그램은 적절한 (약속된) 입출력 양식을 가지고 있습니다.\n",
        "\n",
        "- 프로그램 동작의 첫 번째 단계는 데이터를 입력 받거나 생성하는 것입니다.\n",
        "\n",
        "- 예시) 학생의 성적 데이터가 주어지고, 이를 내림차순으로 정렬한 결과를 출력하는 프로그램"
      ],
      "metadata": {
        "id": "oAbOEbU34d7j"
      }
    },
    {
      "cell_type": "markdown",
      "source": [
        "## 자주 사용되는 표준 입력 방법\n",
        "\n",
        "- input() 함수는 한 줄의 문자열을 입력 받는 함수입니다.\n",
        "\n",
        "- map() 함수는 리스트의 모든 원소에 각각 특정한 함수를 적용할 때 사용합니다.\n",
        "\n",
        "- 예시) 공백을 기준으로 구분된 데이터를 입력 받을 때는 다음과 같이 사용합니다.\n",
        "    - list(map(int, input().split())) \n",
        "    : input() 으로 입력을 받은 다음에 공백 기준으로 구분된 원소를 정수형으로 바꾸어준다음에 리스트로 만들어준다.\n",
        "\n",
        "- 예시) 공백을 기준으로 구분된 데이터의 개수가 많지 않다면, 단순히 다음과 같이 사용합니다.\n",
        "    - a, b, c = map(int, input(), split()) \n",
        "    : 데이터 수가 많지 않으므로 그냥 a,b,c에 넣는 방식으로 사용한다."
      ],
      "metadata": {
        "id": "B0Hmec-zlB0j"
      }
    },
    {
      "cell_type": "code",
      "source": [
        "# 입력을 위한 전형적인 소스코드 1)\n",
        "n = int(input())\n",
        "# 각 데이터를 공백을 기준으로 구분하여 입력\n",
        "data = list(map(int, input().split()))\n",
        "\n",
        "data.sort(reverse=True)\n",
        "print(data)"
      ],
      "metadata": {
        "colab": {
          "base_uri": "https://localhost:8080/"
        },
        "id": "Bb8HmnSzmecN",
        "outputId": "ab45a714-f0cd-4ea0-fced-8ba30d217467"
      },
      "execution_count": 3,
      "outputs": [
        {
          "output_type": "stream",
          "name": "stdout",
          "text": [
            "5\n",
            "10 20 30 40 50\n",
            "[50, 40, 30, 20, 10]\n"
          ]
        }
      ]
    },
    {
      "cell_type": "code",
      "source": [
        "a, b, c = map(int, input().split())\n",
        "\n",
        "print(a, b, c)"
      ],
      "metadata": {
        "colab": {
          "base_uri": "https://localhost:8080/",
          "height": 223
        },
        "id": "0XmUkXW_mtD9",
        "outputId": "5ea67be3-97f7-4d2b-b7a7-842b3102b31b"
      },
      "execution_count": 5,
      "outputs": [
        {
          "name": "stdout",
          "output_type": "stream",
          "text": [
            "1 2 3 4\n"
          ]
        },
        {
          "output_type": "error",
          "ename": "ValueError",
          "evalue": "ignored",
          "traceback": [
            "\u001b[0;31m---------------------------------------------------------------------------\u001b[0m",
            "\u001b[0;31mValueError\u001b[0m                                Traceback (most recent call last)",
            "\u001b[0;32m<ipython-input-5-24cf6230e0a5>\u001b[0m in \u001b[0;36m<module>\u001b[0;34m()\u001b[0m\n\u001b[0;32m----> 1\u001b[0;31m \u001b[0ma\u001b[0m\u001b[0;34m,\u001b[0m \u001b[0mb\u001b[0m\u001b[0;34m,\u001b[0m \u001b[0mc\u001b[0m \u001b[0;34m=\u001b[0m \u001b[0mmap\u001b[0m\u001b[0;34m(\u001b[0m\u001b[0mint\u001b[0m\u001b[0;34m,\u001b[0m \u001b[0minput\u001b[0m\u001b[0;34m(\u001b[0m\u001b[0;34m)\u001b[0m\u001b[0;34m.\u001b[0m\u001b[0msplit\u001b[0m\u001b[0;34m(\u001b[0m\u001b[0;34m)\u001b[0m\u001b[0;34m)\u001b[0m\u001b[0;34m\u001b[0m\u001b[0;34m\u001b[0m\u001b[0m\n\u001b[0m\u001b[1;32m      2\u001b[0m \u001b[0;34m\u001b[0m\u001b[0m\n\u001b[1;32m      3\u001b[0m \u001b[0mprint\u001b[0m\u001b[0;34m(\u001b[0m\u001b[0ma\u001b[0m\u001b[0;34m,\u001b[0m \u001b[0mb\u001b[0m\u001b[0;34m,\u001b[0m \u001b[0mc\u001b[0m\u001b[0;34m)\u001b[0m\u001b[0;34m\u001b[0m\u001b[0;34m\u001b[0m\u001b[0m\n",
            "\u001b[0;31mValueError\u001b[0m: too many values to unpack (expected 3)"
          ]
        }
      ]
    },
    {
      "cell_type": "code",
      "source": [
        "# 입력을 위한 전형적인 소스코드 2)\n",
        "# n, m , k를 공백을 기준으로 구분하여 입력\n",
        "n, m, k = map(int, input().split())\n",
        "\n",
        "print(n, m ,k)"
      ],
      "metadata": {
        "colab": {
          "base_uri": "https://localhost:8080/"
        },
        "id": "YIGQOewvnaI6",
        "outputId": "b630842c-1457-4d0b-ba73-02e86eb20296"
      },
      "execution_count": 6,
      "outputs": [
        {
          "output_type": "stream",
          "name": "stdout",
          "text": [
            "1 20 30\n",
            "1 20 30\n"
          ]
        }
      ]
    },
    {
      "cell_type": "markdown",
      "source": [
        "## 빠르게 입력 받기\n",
        "- 사용자로부터 입력을 최대한 빠르게 받아야 하는 경우가 있습니다.\n",
        "- 파이썬의 경우 sys 라이브러리에 정의되어 있는 sys.stdin.readline() 메서드를 이용합니다.\n",
        "    - 단, 입력 후 엔터(Enter)가 줄 바꿈 기호로 입력되므로 rstrip() 메서드를 함꼐 사용합니다.\n",
        "    "
      ],
      "metadata": {
        "id": "jUN4c3mEnuOE"
      }
    },
    {
      "cell_type": "code",
      "source": [
        "# 빠르게 입력 받기\n",
        "import sys\n",
        "\n",
        "# 문자열 입력 받기\n",
        "data = sys.stdin.readline().rstrip()\n",
        "print(data)"
      ],
      "metadata": {
        "colab": {
          "base_uri": "https://localhost:8080/"
        },
        "id": "RoNH2AYkoEkQ",
        "outputId": "22099837-83c6-414a-e87c-0ee687d09c6b"
      },
      "execution_count": 7,
      "outputs": [
        {
          "output_type": "stream",
          "name": "stdout",
          "text": [
            "\n"
          ]
        }
      ]
    },
    {
      "cell_type": "markdown",
      "source": [
        "## 자주 사용되는 표준 풀력 방법\n",
        "- 파이썬에서 기본 출력은 print() 함수를 이용합니다.\n",
        "    - 각 변수를 콤마(,)를 이용하여 띄어쓰기로 구분하여 출력할 수 있습니다.\n",
        "\n",
        "- print()는 기본적으로 출력 이후에 줄 바꿈을 수행합니다.'\n",
        "    - 줄 바꿈을 원치 않는 경우 'end'속성을 이용할 수 있습니다.\n"
      ],
      "metadata": {
        "id": "Datvgig4oWeX"
      }
    },
    {
      "cell_type": "code",
      "source": [
        "# 출력을 위한 전형적인 소스코드\n",
        "\n",
        "# 출력할 변수들\n",
        "a = 1\n",
        "b = 2\n",
        "print(a, b)\n",
        "print(7, end = \" \") # end = \" \"\n",
        "print(8, end = \" \")\n",
        "\n",
        "# 출력할 변수\n",
        "answer = 7\n",
        "print(\" 정답은 \" + str(answer) + \"입니다.\")"
      ],
      "metadata": {
        "colab": {
          "base_uri": "https://localhost:8080/"
        },
        "id": "oNmw5y2UorZx",
        "outputId": "4068408e-79d9-41bd-c96e-fa0f06afd0d1"
      },
      "execution_count": 8,
      "outputs": [
        {
          "output_type": "stream",
          "name": "stdout",
          "text": [
            "1 2\n",
            "7 8  정답은 7입니다.\n"
          ]
        }
      ]
    },
    {
      "cell_type": "code",
      "source": [
        ""
      ],
      "metadata": {
        "id": "12mZJG9KplOM"
      },
      "execution_count": null,
      "outputs": []
    },
    {
      "cell_type": "markdown",
      "source": [
        "## f- string 예제\n",
        "- 파이썬 3.6부터 사용 가능하며, 문자열 앞에 접두사 'f'를 붙여 사용합니다.\n",
        "- 중괄호 안에 변수명을 기입하여 간단히 문자열과 정수를 함께 넣을 수 있습니다.\n",
        "\n",
        "\n",
        "\n",
        "```\n",
        "# 코드로 형식 지정됨\n",
        "answer = 7\n",
        "print(f\"정답은 {answer}입니다.\") # 정답은 7입니다.\n",
        "```\n",
        "\n"
      ],
      "metadata": {
        "id": "6eBsGLN-pGeM"
      }
    },
    {
      "cell_type": "code",
      "source": [
        "answer = 7\n",
        "print(f\"정답은 {answer}입니다.\") # 정답은 7입니다."
      ],
      "metadata": {
        "colab": {
          "base_uri": "https://localhost:8080/"
        },
        "id": "MF66iwo9ptxk",
        "outputId": "21a58c2b-91cf-480e-8c49-90ba2a5a9746"
      },
      "execution_count": 9,
      "outputs": [
        {
          "output_type": "stream",
          "name": "stdout",
          "text": [
            "정답은 7입니다.\n"
          ]
        }
      ]
    }
  ]
}