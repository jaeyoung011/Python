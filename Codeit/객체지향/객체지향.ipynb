{
 "cells": [
  {
   "cell_type": "code",
   "execution_count": 3,
   "metadata": {
    "collapsed": true
   },
   "outputs": [
    {
     "name": "stdout",
     "output_type": "stream",
     "text": [
      "안녕하세요! 저는 김대위입니다!\n",
      "안녕하세요! 저는 강영훈입니다!\n",
      "안녕하세요! 저는 최지웅입니다!\n"
     ]
    }
   ],
   "source": [
    "# 클래스 안에 행동 => 함수(=메소드)로 나타낸다\n",
    "\n",
    "#메소드의 종류\n",
    "\n",
    "#1) 인스턴스 메소드\n",
    "    # 인스턴스 변수를 사용하거나, 인스턴스 변수에 값을 설정하는 메소드\n",
    "\n",
    "class User:\n",
    "    def say_hello(some_user):\n",
    "        # 인사 메세지 출력 메소드\n",
    "        print(\"안녕하세요! 저는 {}입니다!\".format(some_user.name))\n",
    "  \n",
    "user1 = User()\n",
    "user2 = User()\n",
    "user3 = User()\n",
    "        \n",
    "user1.name = '김대위'\n",
    "user1.email = 'captain@codeit.kr'\n",
    "user1.password = '12345'\n",
    "\n",
    "user2.name = '강영훈'\n",
    "user2.email = 'younghong@codeit.kr'\n",
    "user2.passowrd = '98765'\n",
    "\n",
    "user3.name = '최지웅'\n",
    "user3.email = 'jiwoong@codeit.kr'\n",
    "user3.password = '78945'\n",
    "\n",
    "User.say_hello(user1)\n",
    "User.say_hello(user2)\n",
    "User.say_hello(user3)"
   ]
  },
  {
   "cell_type": "markdown",
   "metadata": {},
   "source": []
  },
  {
   "cell_type": "code",
   "execution_count": 5,
   "metadata": {},
   "outputs": [
    {
     "name": "stdout",
     "output_type": "stream",
     "text": [
      "로그인 성공, 환영합니다\n"
     ]
    }
   ],
   "source": [
    "# 클래스 안에 행동 => 함수(=메소드)로 나타낸다\n",
    "\n",
    "#메소드의 종류\n",
    "\n",
    "#1) 인스턴스 메소드\n",
    "    # 인스턴스 변수를 사용하거나, 인스턴스 변수에 값을 설정하는 메소드\n",
    "\n",
    "class User:\n",
    "    def say_hello(some_user):\n",
    "        # 인사 메세지 출력 메소드\n",
    "        print(\"안녕하세요! 저는 {}입니다!\".format(some_user.name))\n",
    "    def login(some_user, my_email, my_password):\n",
    "        # 로그인 메소드\n",
    "        if (some_user, some_user.email == my_email and some_user.password == my_password):\n",
    "            print(\"로그인 성공, 환영합니다\")\n",
    "        else:\n",
    "            print('로그인 실패, 없는 아이디이거나 잘못된 비밀번호입니다.')\n",
    "    \n",
    "user1 = User()\n",
    "\n",
    "user1.name = '김대위'\n",
    "user1.email = 'captain@codeit.kr'\n",
    "user1.password = '12345'\n",
    "\n",
    "#user1.login(user1, 'captain@codeit.kr', '12345')\n",
    "user1.login('captain@codeit.kr', '12345')\n",
    "\n",
    "\n",
    "\n"
   ]
  },
  {
   "cell_type": "code",
   "execution_count": 2,
   "metadata": {},
   "outputs": [
    {
     "name": "stdout",
     "output_type": "stream",
     "text": [
      "로그인 성공, 환영합니다\n",
      "\n",
      "\n",
      "로그인 성공, 환영합니다\n"
     ]
    }
   ],
   "source": [
    "# self를 사용합시다.\n",
    "# 인스턴스 메소드의 특별한 규칙\n",
    "# 첫 번째 파라미터의 이름은 꼭! self로 쓰기\n",
    "\n",
    "class User:\n",
    "    def say_hello(self):\n",
    "        # 인사 메세지 출력 메소드\n",
    "        print(\"안녕하세요! 저는 {}입니다!\".format(some_user.name))\n",
    "    def login(self, my_email, my_password):\n",
    "        # 로그인 메소드\n",
    "        if (self.email == my_email and self.password == my_password):\n",
    "            print(\"로그인 성공, 환영합니다\")\n",
    "        else:\n",
    "            print('로그인 실패, 없는 아이디이거나 잘못된 비밀번호입니다.')\n",
    "    \n",
    "user1 = User()\n",
    "\n",
    "user1.name = '김대위'\n",
    "user1.email = 'captain@codeit.kr'\n",
    "user1.password = '12345'\n",
    "\n",
    "#user1.login(user1, 'captain@codeit.kr', '12345')\n",
    "\n",
    "#밑에 2개는 같다.\n",
    "user1.login('captain@codeit.kr', '12345')\n",
    "print('\\n')\n",
    "User.login(user1, 'captain@codeit.kr', '12345')\n",
    "\n",
    "\n",
    "\n",
    "\n"
   ]
  },
  {
   "cell_type": "markdown",
   "metadata": {},
   "source": [
    "### 06. 인스턴스 변수와 같은 이름을 갖는 파라미터"
   ]
  },
  {
   "cell_type": "code",
   "execution_count": 3,
   "metadata": {},
   "outputs": [
    {
     "name": "stdout",
     "output_type": "stream",
     "text": [
      "True\n",
      "False\n"
     ]
    }
   ],
   "source": [
    "class User:\n",
    "    def say_hello(self):\n",
    "        # 인사 메시지 출력 메소드\n",
    "        print(\"안녕하세요! 저는 {}입니다!\".format(self.name))\n",
    "    def check_name(self, name):\n",
    "        # 파라미터로 받는 name이 유저의 이름과 같은지 불린으로 리턴하는 메소드!!\n",
    "        return self.name == name\n",
    "\n",
    "user1 = User()\n",
    "user2 = User()\n",
    "        \n",
    "user1.name = '김대위'\n",
    "user1.email = 'captain@codeit.kr'\n",
    "user1.password = '12345'\n",
    "\n",
    "user2.name = '강영훈'\n",
    "user2.email = 'younghong@codeit.kr'\n",
    "user2.passowrd = '98765'\n",
    "\n",
    "print(user1.check_name(\"김대위\")) # True\n",
    "\n",
    "print(user1.check_name(\"강영훈\")) # False\n"
   ]
  },
  {
   "cell_type": "markdown",
   "metadata": {},
   "source": [
    "### 07. initialize 메소드"
   ]
  },
  {
   "cell_type": "code",
   "execution_count": 5,
   "metadata": {},
   "outputs": [
    {
     "name": "stdout",
     "output_type": "stream",
     "text": [
      "3\n"
     ]
    }
   ],
   "source": [
    "# __intit__ # magic method, special method\n",
    "# 특수 메소드 : 특정상황에서 자동으로 호출되는 메소드\n",
    "    # __init__는 인스턴스가 생성될 때 자동으로 호출\n",
    "\n",
    "class User:\n",
    "    count = 0\n",
    "    \n",
    "    def __init__(self, name, email, pw):\n",
    "        # 유저 인스턴스의 모든 변수를 지정해주는 메소드\n",
    "        self.name = name\n",
    "        self.email = email\n",
    "        self.pw = pw\n",
    "        \n",
    "        User.count += 1\n",
    "    \n",
    "# User.count = 1\n",
    "# print(User.count)\n",
    "\n",
    "# 클래스 변수 count가 유저 인스턴스 개수를 정확히 나타내도록 하려면?\n",
    "\n",
    "user1 = User('강영휸', 'younghoon@codeit.kr','123456')\n",
    "# 순서\n",
    "# 1) User 인스턴스 생성 \n",
    "# 2) __init__메소드 자동 호출\n",
    "\n",
    "user2 = User('이윤수', 'youngsoo@codeit.kr', 'abcdef')\n",
    "user3 = User('서혜린' , 'lisa@codeit.kr', '123abc')\n",
    "\n",
    "print(User.count)"
   ]
  },
  {
   "cell_type": "markdown",
   "metadata": {},
   "source": [
    "#### 10. __str__ 메소드\n",
    "    - 프린트 함수를 호출할때 자동으로 불불려진다"
   ]
  },
  {
   "cell_type": "code",
   "execution_count": 6,
   "metadata": {},
   "outputs": [
    {
     "name": "stdout",
     "output_type": "stream",
     "text": [
      "사용자: 강영휸, 이메일: younghoon@codeit.kr, 비밀번호: ******\n",
      "사용자: 이윤수, 이메일: youngsoo@codeit.kr, 비밀번호: ******\n"
     ]
    }
   ],
   "source": [
    "# __str__\n",
    "     # 프린트 함수를 호출할때 자동으로 불불려진다\n",
    "\n",
    "\n",
    "class User:\n",
    "\n",
    "    def __init__(self, name, email, pw):\n",
    "        # 유저 인스턴스의 모든 변수를 지정해주는 메소드\n",
    "        self.name = name\n",
    "        self.email = email\n",
    "        self.pw = pw\n",
    "    def say_hello(self):\n",
    "        print(\"안녕하세요! 저는 {}입니다!\".format(self.name))\n",
    "\n",
    "    def __str__(self): # print함수를 호출할때 자동으로 불려진다\n",
    "        return \"사용자: {}, 이메일: {}, 비밀번호: ******\".format(self.name, self.email)\n",
    "        \n",
    "user1 = User('강영휸', 'younghoon@codeit.kr','123456')\n",
    "user2 = User('이윤수', 'youngsoo@codeit.kr', 'abcdef')\n",
    "\n",
    "print(user1)\n",
    "print(user2)\n"
   ]
  },
  {
   "cell_type": "code",
   "execution_count": null,
   "metadata": {},
   "outputs": [],
   "source": []
  },
  {
   "cell_type": "code",
   "execution_count": null,
   "metadata": {},
   "outputs": [],
   "source": [
    "class User:\n",
    "    def say_hello(self):\n",
    "        # 인사 메시지 출력 메소드\n",
    "        print(\"안녕하세요! 저는 {}입니다!\".format(self.name))\n",
    "    def check_name(self, name):\n",
    "        # 파라미터로 받는 name이 유저의 이름과 같은지 불린으로 리턴하는 메소드!!\n",
    "        return self.name == name\n",
    "\n",
    "user1 = User()\n",
    "user2 = User()\n",
    "        \n",
    "user1.name = '김대위'\n",
    "user1.email = 'captain@codeit.kr'\n",
    "user1.password = '12345'\n",
    "\n",
    "user2.name = '강영훈'\n",
    "user2.email = 'younghong@codeit.kr'\n",
    "user2.passowrd = '98765'\n",
    "\n",
    "print(user1.check_name(\"김대위\")) # True\n",
    "\n",
    "print(user1.check_name(\"강영훈\")) # False\n"
   ]
  },
  {
   "cell_type": "code",
   "execution_count": 2,
   "metadata": {},
   "outputs": [
    {
     "name": "stdout",
     "output_type": "stream",
     "text": [
      "함수 시작\n",
      "안녕하세요\n",
      "함수 끝\n",
      "\n",
      "\n",
      "함수 시작\n",
      "안녕하세요\n",
      "함수 끝\n"
     ]
    }
   ],
   "source": [
    "# 데코레이팅\n",
    "\n",
    "\n",
    "def print_hello():\n",
    "    print('안녕하세요')\n",
    "    \n",
    "def add_print_to(original): # print_hello 가 들어간다\n",
    "    def wrapper(): \n",
    "        print('함수 시작')\n",
    "        original() # original(print_hello)를 위아래에서 꾸며줌\n",
    "        print('함수 끝')\n",
    "    return wrapper\n",
    "\n",
    "add_print_to(print_hello)() \n",
    "# return된 함수를 불러오기위해 ()를해줘야한다.\n",
    "\n",
    "print('\\n')\n",
    "\n",
    "print_hello = add_print_to(print_hello)\n",
    "print_hello()\n",
    "\n"
   ]
  },
  {
   "cell_type": "code",
   "execution_count": 3,
   "metadata": {},
   "outputs": [
    {
     "ename": "SyntaxError",
     "evalue": "invalid syntax (<ipython-input-3-16cd95e6d56b>, line 24)",
     "output_type": "error",
     "traceback": [
      "\u001b[0;36m  File \u001b[0;32m\"<ipython-input-3-16cd95e6d56b>\"\u001b[0;36m, line \u001b[0;32m24\u001b[0m\n\u001b[0;31m    기존함수1 내용\u001b[0m\n\u001b[0m           ^\u001b[0m\n\u001b[0;31mSyntaxError\u001b[0m\u001b[0;31m:\u001b[0m invalid syntax\n"
     ]
    }
   ],
   "source": [
    "# 데코레이팅\n",
    "\n",
    "\n",
    "\n",
    "    \n",
    "def add_print_to(original): # 데코레이터함수\n",
    "    def wrapper(): \n",
    "        print('함수 시작')\n",
    "        original() \n",
    "        print('함수 끝')\n",
    "    return wrapper\n",
    "\n",
    "@add_print_to\n",
    "def print_hello():\n",
    "    print('안녕하세요')\n",
    "\n",
    "\n",
    "print_hello()\n",
    "\n",
    "# 왜 쓰는것인가? 중복적인걸 함수에 적용하기 위해\n",
    "\n",
    "@add_print_to\n",
    "def function1():\n",
    "    기존함수1 내용\n",
    "    \n",
    "@add_print_to\n",
    "def function2():\n",
    "    기존함수2 내용\n",
    "    \n",
    "@add_print_to\n",
    "def function3():\n",
    "    기존함수3 내용\n",
    "    "
   ]
  },
  {
   "cell_type": "code",
   "execution_count": 4,
   "metadata": {},
   "outputs": [
    {
     "name": "stdout",
     "output_type": "stream",
     "text": [
      "총 유저 수는 : 3입니다\n",
      "총 유저 수는 : 3입니다\n"
     ]
    }
   ],
   "source": [
    "# 클래스 메소드 1\n",
    "\n",
    "class User:\n",
    "    count = 0\n",
    "    \n",
    "    def __init__(self, name, email, pw):\n",
    "        # 유저 인스턴스의 모든 변수를 지정해주는 메소드\n",
    "        self.name = name\n",
    "        self.email = email\n",
    "        self.pw = pw\n",
    "        \n",
    "        User.count += 1\n",
    "    \n",
    "    def say_hello(self):\n",
    "        print('안녕하세요! 저는 {}입니다!'.format(self.name))\n",
    "    \n",
    "    def __str__(self):\n",
    "        return '사용자: {}, 이메일: {}, 비밀번호: ******'.format(self.name, self.email)\n",
    "        \n",
    "    @classmethod\n",
    "    def number_of_users(cls): # cls로 쓰자 파이썬의 약속 cls.count = user.count\n",
    "        print('총 유저 수는 : {}입니다'.format(cls.count))\n",
    "        \n",
    "user1 = User('강영훈', 'younghoon@codeit.kr','123456')\n",
    "user2 = User('이윤슈', 'youngsoo@coeit.kr','abcdef')\n",
    "user3 = User('서혜린', 'lisa@codeit.kr', '123abc')\n",
    "\n",
    "User.number_of_users()\n",
    "user1.number_of_users()\n",
    "\n",
    "\n",
    "\n",
    "        "
   ]
  },
  {
   "cell_type": "code",
   "execution_count": 5,
   "metadata": {},
   "outputs": [
    {
     "name": "stdout",
     "output_type": "stream",
     "text": [
      "총 유저 수는: 0입니다.\n"
     ]
    }
   ],
   "source": [
    "# 클래스 메소드 1\n",
    "\n",
    "class User:\n",
    "    count = 0\n",
    "    \n",
    "    def __init__(self, name, email, pw):\n",
    "        # 유저 인스턴스의 모든 변수를 지정해주는 메소드\n",
    "        self.name = name\n",
    "        self.email = email\n",
    "        self.pw = pw\n",
    "        \n",
    "        User.count += 1\n",
    "    \n",
    "    def say_hello(self):\n",
    "        print('안녕하세요! 저는 {}입니다!'.format(self.name))\n",
    "    \n",
    "    def __str__(self):\n",
    "        return '사용자: {}, 이메일: {}, 비밀번호: ******'.format(self.name, self.email)\n",
    "        \n",
    "    # @classmethod\n",
    "    # def number_of_users(cls): # cls로 쓰자 파이썬의 약속 cls.count = user.count\n",
    "    #     print('총 유저 수는 : {}입니다'.format(cls.count))\n",
    "    @classmethod\n",
    "    def number_of_users(self):\n",
    "        print(\"총 유저 수는: {}입니다.\".format(User.count))\n",
    "        # self 사용 X\n",
    "        \n",
    "\n",
    "# 클래스 메소드 사용\n",
    "User.number_of_users()\n",
    "\n",
    "\n",
    "\n",
    "# 인스턴스 메소드 : 인스턴스 변수, 클래스 변수 모두사용 가능!\n",
    "# 클래스 메소드는 인스턴스 변수 사용 불가!\n",
    "\n",
    "# Q_인스턴스 없어도 필요한 정보가 있다면?\n",
    "    #- 클래스 메소드 number_of_users\n",
    "    #User.count -> 인스턴스가 하나도 없더라도 필요.\n",
    "\n",
    "\n",
    "\n",
    "        "
   ]
  },
  {
   "cell_type": "code",
   "execution_count": null,
   "metadata": {},
   "outputs": [],
   "source": [
    "def change_list(list_parameter):\n",
    "    list_parameter[2] = 5\n",
    "\n",
    "list_x = [1, 2, 3, 4]\n",
    "\n",
    "change_list(list_x)\n",
    "print(list_x[2])"
   ]
  },
  {
   "cell_type": "code",
   "execution_count": 1,
   "metadata": {},
   "outputs": [
    {
     "name": "stdout",
     "output_type": "stream",
     "text": [
      "햄버거 가격: 4000\n",
      "콜라 가격: 1500\n",
      "후렌치 후라이 가격: 1500\n"
     ]
    }
   ],
   "source": [
    "# 문제\n",
    "\n",
    "class MenuItem:\n",
    "    # 음식 메뉴를 나타내는 클래스\n",
    "    def __init__(self, name, price):\n",
    "        # 코드를 쓰세요\n",
    "        self.name = name\n",
    "        self.price = price\n",
    "\n",
    "    def __str__(self):\n",
    "        # 코드를 쓰세요\n",
    "        return '{} 가격: {}'.format(self.name, self.price)\n",
    "\n",
    "# 메뉴 인스턴스 생성\n",
    "burger = MenuItem(\"햄버거\", 4000)\n",
    "coke = MenuItem(\"콜라\", 1500)\n",
    "fries = MenuItem(\"후렌치 후라이\", 1500)\n",
    "\n",
    "# 메뉴 인스턴스 출력\n",
    "print(burger)\n",
    "print(coke)\n",
    "print(fries)"
   ]
  },
  {
   "cell_type": "code",
   "execution_count": 2,
   "metadata": {},
   "outputs": [
    {
     "name": "stdout",
     "output_type": "stream",
     "text": [
      "9\n",
      "-1\n",
      "20\n",
      "0.8\n"
     ]
    }
   ],
   "source": [
    "class SimpleCalculator:\n",
    "    # 계산기 클래스\n",
    "    @staticmethod\n",
    "    def add(first_number, second_number):\n",
    "        # 파라미터로 받는 두 숫자의 합을 리턴한다\n",
    "        return first_number + second_number\n",
    "    \n",
    "    @staticmethod\n",
    "    def subtract(first_number, second_number):\n",
    "        # 첫 번째 파라미터에서 두 번째 파라미터를 뺀 값을 리턴한다\n",
    "        return first_number - second_number\n",
    "    \n",
    "    @staticmethod\n",
    "    def multiply(first_number, second_number):\n",
    "        # 파라미터로 받는 두 숫자의 곱을 리턴한다\n",
    "        return first_number * second_number\n",
    "    \n",
    "    @staticmethod\n",
    "    def divide(first_number, second_number):\n",
    "        # 첫 번째 파라미터를 두 번째 파라미터로 나눈 값을 리턴한다\n",
    "        return first_number / second_number\n",
    "    \n",
    "    \n",
    "# 계산기 인스턴스 생성\n",
    "calculator = SimpleCalculator()\n",
    "    \n",
    "# 계산기 연산 호출\n",
    "print(calculator.add(4, 5))\n",
    "print(calculator.subtract(4, 5))\n",
    "print(calculator.multiply(4, 5))\n",
    "print(calculator.divide(4, 5))\n"
   ]
  },
  {
  },
  {
   "cell_type": "code",
   "execution_count": null,
   "metadata": {},
   "outputs": [],
   "source": []
  }
 ],
 "metadata": {
  "kernelspec": {
   "display_name": "Python 3",
   "language": "python",
   "name": "python3"
  },
  "language_info": {
   "codemirror_mode": {
    "name": "ipython",
    "version": 3
   },
   "file_extension": ".py",
   "mimetype": "text/x-python",
   "name": "python",
   "nbconvert_exporter": "python",
   "pygments_lexer": "ipython3",
   "version": "3.7.10"
  }
 },
 "nbformat": 4,
 "nbformat_minor": 1
}
